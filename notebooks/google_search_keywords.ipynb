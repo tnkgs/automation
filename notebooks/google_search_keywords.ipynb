{
 "cells": [
  {
   "cell_type": "code",
   "execution_count": 4,
   "metadata": {},
   "outputs": [],
   "source": [
    "import os\n",
    "from google.ads.googleads.client import GoogleAdsClient\n",
    "\n",
    "google_ads_yaml_path = os.path.join(os.path.dirname(\"__file__\"), '..', 'tmp', 'google-ads.yaml')\n",
    "\n",
    "client = GoogleAdsClient.load_from_storage(google_ads_yaml_path)"
   ]
  },
  {
   "cell_type": "code",
   "execution_count": 5,
   "metadata": {},
   "outputs": [],
   "source": [
    "import time\n",
    "import pandas as pd\n",
    "from automation import get_google_suggests\n",
    "\n",
    "master_keywords_path = os.path.join(os.path.dirname(\"__file__\"), '..', 'tmp', 'master_keywords.csv')\n",
    "\n",
    "df = pd.read_csv(master_keywords_path, header=None, names=['keyword'])\n",
    "\n",
    "master_keywords = df['keyword'].tolist()\n",
    "\n",
    "suggests_keywords = []\n",
    "for keyword in master_keywords:\n",
    "    keywords = get_google_suggests(keyword)\n",
    "    # sleep 2 second\n",
    "    time.sleep(2)\n",
    "    for keyword in keywords:\n",
    "        suggests_keywords.append(keyword)\n",
    "\n",
    "suggests_keywords = list(set(suggests_keywords))\n",
    "\n",
    "# csvに保存\n",
    "suggests_keywords_path = os.path.join(os.path.dirname(\"__file__\"), '..', 'tmp', 'suggests_keywords.csv')\n",
    "\n",
    "df2 = pd.DataFrame(suggests_keywords)\n",
    "df2.to_csv(suggests_keywords_path, header=False, index=False)\n"
   ]
  }
 ],
 "metadata": {
  "kernelspec": {
   "display_name": ".venv",
   "language": "python",
   "name": "python3"
  },
  "language_info": {
   "codemirror_mode": {
    "name": "ipython",
    "version": 3
   },
   "file_extension": ".py",
   "mimetype": "text/x-python",
   "name": "python",
   "nbconvert_exporter": "python",
   "pygments_lexer": "ipython3",
   "version": "3.11.4"
  },
  "orig_nbformat": 4
 },
 "nbformat": 4,
 "nbformat_minor": 2
}
